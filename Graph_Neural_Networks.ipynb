{
  "nbformat": 4,
  "nbformat_minor": 0,
  "metadata": {
    "colab": {
      "provenance": []
    },
    "kernelspec": {
      "name": "python3",
      "display_name": "Python 3"
    },
    "language_info": {
      "name": "python"
    }
  },
  "cells": [
    {
      "cell_type": "code",
      "source": [
        "# Imports\n",
        "!pip install numpy tensorflow spektral\n",
        "\n",
        "import numpy as np\n",
        "import tensorflow as tf\n",
        "import spektral\n",
        "from spektral.datasets import citation"
      ],
      "metadata": {
        "colab": {
          "base_uri": "https://localhost:8080/"
        },
        "id": "aiz2KdhxJrjT",
        "outputId": "4150e714-1970-4cc8-9c73-54a2d1fffaaa"
      },
      "execution_count": 55,
      "outputs": [
        {
          "output_type": "stream",
          "name": "stdout",
          "text": [
            "Requirement already satisfied: numpy in /usr/local/lib/python3.10/dist-packages (1.25.2)\n",
            "Requirement already satisfied: tensorflow in /usr/local/lib/python3.10/dist-packages (2.15.0)\n",
            "Requirement already satisfied: spektral in /usr/local/lib/python3.10/dist-packages (1.3.1)\n",
            "Requirement already satisfied: absl-py>=1.0.0 in /usr/local/lib/python3.10/dist-packages (from tensorflow) (1.4.0)\n",
            "Requirement already satisfied: astunparse>=1.6.0 in /usr/local/lib/python3.10/dist-packages (from tensorflow) (1.6.3)\n",
            "Requirement already satisfied: flatbuffers>=23.5.26 in /usr/local/lib/python3.10/dist-packages (from tensorflow) (24.3.25)\n",
            "Requirement already satisfied: gast!=0.5.0,!=0.5.1,!=0.5.2,>=0.2.1 in /usr/local/lib/python3.10/dist-packages (from tensorflow) (0.5.4)\n",
            "Requirement already satisfied: google-pasta>=0.1.1 in /usr/local/lib/python3.10/dist-packages (from tensorflow) (0.2.0)\n",
            "Requirement already satisfied: h5py>=2.9.0 in /usr/local/lib/python3.10/dist-packages (from tensorflow) (3.9.0)\n",
            "Requirement already satisfied: libclang>=13.0.0 in /usr/local/lib/python3.10/dist-packages (from tensorflow) (18.1.1)\n",
            "Requirement already satisfied: ml-dtypes~=0.2.0 in /usr/local/lib/python3.10/dist-packages (from tensorflow) (0.2.0)\n",
            "Requirement already satisfied: opt-einsum>=2.3.2 in /usr/local/lib/python3.10/dist-packages (from tensorflow) (3.3.0)\n",
            "Requirement already satisfied: packaging in /usr/local/lib/python3.10/dist-packages (from tensorflow) (24.0)\n",
            "Requirement already satisfied: protobuf!=4.21.0,!=4.21.1,!=4.21.2,!=4.21.3,!=4.21.4,!=4.21.5,<5.0.0dev,>=3.20.3 in /usr/local/lib/python3.10/dist-packages (from tensorflow) (3.20.3)\n",
            "Requirement already satisfied: setuptools in /usr/local/lib/python3.10/dist-packages (from tensorflow) (67.7.2)\n",
            "Requirement already satisfied: six>=1.12.0 in /usr/local/lib/python3.10/dist-packages (from tensorflow) (1.16.0)\n",
            "Requirement already satisfied: termcolor>=1.1.0 in /usr/local/lib/python3.10/dist-packages (from tensorflow) (2.4.0)\n",
            "Requirement already satisfied: typing-extensions>=3.6.6 in /usr/local/lib/python3.10/dist-packages (from tensorflow) (4.11.0)\n",
            "Requirement already satisfied: wrapt<1.15,>=1.11.0 in /usr/local/lib/python3.10/dist-packages (from tensorflow) (1.14.1)\n",
            "Requirement already satisfied: tensorflow-io-gcs-filesystem>=0.23.1 in /usr/local/lib/python3.10/dist-packages (from tensorflow) (0.37.0)\n",
            "Requirement already satisfied: grpcio<2.0,>=1.24.3 in /usr/local/lib/python3.10/dist-packages (from tensorflow) (1.64.0)\n",
            "Requirement already satisfied: tensorboard<2.16,>=2.15 in /usr/local/lib/python3.10/dist-packages (from tensorflow) (2.15.2)\n",
            "Requirement already satisfied: tensorflow-estimator<2.16,>=2.15.0 in /usr/local/lib/python3.10/dist-packages (from tensorflow) (2.15.0)\n",
            "Requirement already satisfied: keras<2.16,>=2.15.0 in /usr/local/lib/python3.10/dist-packages (from tensorflow) (2.15.0)\n",
            "Requirement already satisfied: joblib in /usr/local/lib/python3.10/dist-packages (from spektral) (1.4.2)\n",
            "Requirement already satisfied: lxml in /usr/local/lib/python3.10/dist-packages (from spektral) (4.9.4)\n",
            "Requirement already satisfied: networkx in /usr/local/lib/python3.10/dist-packages (from spektral) (3.3)\n",
            "Requirement already satisfied: pandas in /usr/local/lib/python3.10/dist-packages (from spektral) (2.0.3)\n",
            "Requirement already satisfied: requests in /usr/local/lib/python3.10/dist-packages (from spektral) (2.31.0)\n",
            "Requirement already satisfied: scikit-learn in /usr/local/lib/python3.10/dist-packages (from spektral) (1.2.2)\n",
            "Requirement already satisfied: scipy in /usr/local/lib/python3.10/dist-packages (from spektral) (1.11.4)\n",
            "Requirement already satisfied: tqdm in /usr/local/lib/python3.10/dist-packages (from spektral) (4.66.4)\n",
            "Requirement already satisfied: wheel<1.0,>=0.23.0 in /usr/local/lib/python3.10/dist-packages (from astunparse>=1.6.0->tensorflow) (0.43.0)\n",
            "Requirement already satisfied: google-auth<3,>=1.6.3 in /usr/local/lib/python3.10/dist-packages (from tensorboard<2.16,>=2.15->tensorflow) (2.27.0)\n",
            "Requirement already satisfied: google-auth-oauthlib<2,>=0.5 in /usr/local/lib/python3.10/dist-packages (from tensorboard<2.16,>=2.15->tensorflow) (1.2.0)\n",
            "Requirement already satisfied: markdown>=2.6.8 in /usr/local/lib/python3.10/dist-packages (from tensorboard<2.16,>=2.15->tensorflow) (3.6)\n",
            "Requirement already satisfied: tensorboard-data-server<0.8.0,>=0.7.0 in /usr/local/lib/python3.10/dist-packages (from tensorboard<2.16,>=2.15->tensorflow) (0.7.2)\n",
            "Requirement already satisfied: werkzeug>=1.0.1 in /usr/local/lib/python3.10/dist-packages (from tensorboard<2.16,>=2.15->tensorflow) (3.0.3)\n",
            "Requirement already satisfied: charset-normalizer<4,>=2 in /usr/local/lib/python3.10/dist-packages (from requests->spektral) (3.3.2)\n",
            "Requirement already satisfied: idna<4,>=2.5 in /usr/local/lib/python3.10/dist-packages (from requests->spektral) (3.7)\n",
            "Requirement already satisfied: urllib3<3,>=1.21.1 in /usr/local/lib/python3.10/dist-packages (from requests->spektral) (2.0.7)\n",
            "Requirement already satisfied: certifi>=2017.4.17 in /usr/local/lib/python3.10/dist-packages (from requests->spektral) (2024.2.2)\n",
            "Requirement already satisfied: python-dateutil>=2.8.2 in /usr/local/lib/python3.10/dist-packages (from pandas->spektral) (2.8.2)\n",
            "Requirement already satisfied: pytz>=2020.1 in /usr/local/lib/python3.10/dist-packages (from pandas->spektral) (2023.4)\n",
            "Requirement already satisfied: tzdata>=2022.1 in /usr/local/lib/python3.10/dist-packages (from pandas->spektral) (2024.1)\n",
            "Requirement already satisfied: threadpoolctl>=2.0.0 in /usr/local/lib/python3.10/dist-packages (from scikit-learn->spektral) (3.5.0)\n",
            "Requirement already satisfied: cachetools<6.0,>=2.0.0 in /usr/local/lib/python3.10/dist-packages (from google-auth<3,>=1.6.3->tensorboard<2.16,>=2.15->tensorflow) (5.3.3)\n",
            "Requirement already satisfied: pyasn1-modules>=0.2.1 in /usr/local/lib/python3.10/dist-packages (from google-auth<3,>=1.6.3->tensorboard<2.16,>=2.15->tensorflow) (0.4.0)\n",
            "Requirement already satisfied: rsa<5,>=3.1.4 in /usr/local/lib/python3.10/dist-packages (from google-auth<3,>=1.6.3->tensorboard<2.16,>=2.15->tensorflow) (4.9)\n",
            "Requirement already satisfied: requests-oauthlib>=0.7.0 in /usr/local/lib/python3.10/dist-packages (from google-auth-oauthlib<2,>=0.5->tensorboard<2.16,>=2.15->tensorflow) (1.3.1)\n",
            "Requirement already satisfied: MarkupSafe>=2.1.1 in /usr/local/lib/python3.10/dist-packages (from werkzeug>=1.0.1->tensorboard<2.16,>=2.15->tensorflow) (2.1.5)\n",
            "Requirement already satisfied: pyasn1<0.7.0,>=0.4.6 in /usr/local/lib/python3.10/dist-packages (from pyasn1-modules>=0.2.1->google-auth<3,>=1.6.3->tensorboard<2.16,>=2.15->tensorflow) (0.6.0)\n",
            "Requirement already satisfied: oauthlib>=3.0.0 in /usr/local/lib/python3.10/dist-packages (from requests-oauthlib>=0.7.0->google-auth-oauthlib<2,>=0.5->tensorboard<2.16,>=2.15->tensorflow) (3.2.2)\n"
          ]
        }
      ]
    },
    {
      "cell_type": "code",
      "source": [
        "# Load the data\n",
        "dataset = citation.Cora()"
      ],
      "metadata": {
        "id": "4TpfYE3iJv30"
      },
      "execution_count": 56,
      "outputs": []
    },
    {
      "cell_type": "code",
      "source": [
        "# Extract data components\n",
        "graph = dataset[0]\n",
        "adj = graph.a  # Adjacency matrix\n",
        "features = graph.x  # Node features\n",
        "labels = graph.y  # Labels\n",
        "train_mask = dataset.mask_tr\n",
        "val_mask = dataset.mask_va\n",
        "test_mask = dataset.mask_te"
      ],
      "metadata": {
        "id": "JvbZ6pKUJ8X6"
      },
      "execution_count": 57,
      "outputs": []
    },
    {
      "cell_type": "code",
      "source": [
        "# Process the data\n",
        "adj = adj + np.eye(adj.shape[0])\n",
        "features = features.astype('float32')\n",
        "adj = adj.astype('float32')"
      ],
      "metadata": {
        "id": "3fEb5MwnJ-OK"
      },
      "execution_count": 58,
      "outputs": []
    },
    {
      "cell_type": "code",
      "source": [
        "# Normalize adjacency matrix\n",
        "deg = np.sum(adj, axis=-1)\n",
        "norm_deg = np.diag(1.0 / np.sqrt(deg))\n",
        "norm_adj = np.dot(norm_deg, np.dot(adj, norm_deg))"
      ],
      "metadata": {
        "id": "i16Ao5i8KAdr"
      },
      "execution_count": 59,
      "outputs": []
    },
    {
      "cell_type": "code",
      "source": [
        "# Normalize features\n",
        "features = features / np.linalg.norm(features, axis=1, keepdims=True)"
      ],
      "metadata": {
        "id": "kqGPXbKWKCAL"
      },
      "execution_count": 60,
      "outputs": []
    },
    {
      "cell_type": "code",
      "source": [
        "# Print shapes and mask sums\n",
        "print(features.shape)\n",
        "print(adj.shape)\n",
        "print(labels.shape)\n",
        "print(np.sum(train_mask))\n",
        "print(np.sum(val_mask))\n",
        "print(np.sum(test_mask))"
      ],
      "metadata": {
        "colab": {
          "base_uri": "https://localhost:8080/"
        },
        "id": "G5EENzHeKD1z",
        "outputId": "3a542368-fe62-4aca-e18e-8937a4cb0ea6"
      },
      "execution_count": 61,
      "outputs": [
        {
          "output_type": "stream",
          "name": "stdout",
          "text": [
            "(2708, 1433)\n",
            "(2708, 2708)\n",
            "(2708, 7)\n",
            "140\n",
            "500\n",
            "1000\n"
          ]
        }
      ]
    },
    {
      "cell_type": "code",
      "source": [
        "def masked_softmax_cross_entropy(logits, labels, mask):\n",
        "    loss = tf.nn.softmax_cross_entropy_with_logits(logits=logits, labels=labels)\n",
        "    mask = tf.cast(mask, dtype=tf.float32)\n",
        "    mask /= tf.reduce_mean(mask)\n",
        "    loss *= mask\n",
        "    return tf.reduce_mean(loss)"
      ],
      "metadata": {
        "id": "f5_kFwJAKFqk"
      },
      "execution_count": 62,
      "outputs": []
    },
    {
      "cell_type": "code",
      "source": [
        "def masked_accuracy(logits, labels, mask):\n",
        "    correct_prediction = tf.equal(tf.argmax(logits, 1), tf.argmax(labels, 1))\n",
        "    accuracy_all = tf.cast(correct_prediction, tf.float32)\n",
        "    mask = tf.cast(mask, dtype=tf.float32)\n",
        "    mask /= tf.reduce_mean(mask)\n",
        "    accuracy_all *= mask\n",
        "    return tf.reduce_mean(accuracy_all)"
      ],
      "metadata": {
        "id": "N5e2VQuiKHvb"
      },
      "execution_count": 63,
      "outputs": []
    },
    {
      "cell_type": "code",
      "source": [
        "def gnn(fts, adj, transform, activation):\n",
        "    seq_fts = transform(fts)\n",
        "    ret_fts = tf.matmul(adj, seq_fts)\n",
        "    return activation(ret_fts)"
      ],
      "metadata": {
        "id": "q4LF34zOKKWi"
      },
      "execution_count": 64,
      "outputs": []
    },
    {
      "cell_type": "code",
      "source": [
        "def train_cora(fts, adj, gnn_fn, units, epochs, lr, patience):\n",
        "    lyr_1 = tf.keras.layers.Dense(units, activation=None, kernel_regularizer=tf.keras.regularizers.l2(5e-4))\n",
        "    lyr_2 = tf.keras.layers.Dense(units, activation=None, kernel_regularizer=tf.keras.regularizers.l2(5e-4))\n",
        "    lyr_out = tf.keras.layers.Dense(7, activation=None)\n",
        "    dropout = tf.keras.layers.Dropout(0.6)\n",
        "    batch_norm = tf.keras.layers.BatchNormalization()\n",
        "\n",
        "    def cora_gnn(fts, adj):\n",
        "        hidden = gnn_fn(fts, adj, lyr_1, tf.nn.relu)\n",
        "        hidden = dropout(hidden)\n",
        "        hidden = batch_norm(hidden)\n",
        "\n",
        "        hidden = gnn_fn(hidden, adj, lyr_2, tf.nn.relu)\n",
        "        hidden = dropout(hidden)\n",
        "        hidden = batch_norm(hidden)\n",
        "\n",
        "        logits = gnn_fn(hidden, adj, lyr_out, tf.identity)\n",
        "        return logits\n",
        "\n",
        "    optimizer = tf.keras.optimizers.Adam(learning_rate=lr)\n",
        "    best_val_accuracy = 0.0\n",
        "    patience_counter = 0\n",
        "\n",
        "    for ep in range(epochs+1):\n",
        "        with tf.GradientTape() as t:\n",
        "            logits = cora_gnn(fts, adj)\n",
        "            loss = masked_softmax_cross_entropy(logits, labels, train_mask)\n",
        "\n",
        "        variables = t.watched_variables()\n",
        "        grads = t.gradient(loss, variables)\n",
        "        optimizer.apply_gradients(zip(grads, variables))\n",
        "\n",
        "        logits = cora_gnn(fts, adj)\n",
        "        val_accuracy = masked_accuracy(logits, labels, val_mask)\n",
        "        test_accuracy = masked_accuracy(logits, labels, test_mask)\n",
        "\n",
        "        if val_accuracy > best_val_accuracy:\n",
        "            best_val_accuracy = val_accuracy\n",
        "            patience_counter = 0\n",
        "            print(f'Epoch {ep:03d} | Training loss: {loss.numpy():.4f} | Val accuracy: {val_accuracy.numpy():.4f} | Test accuracy: {test_accuracy.numpy():.4f}')\n",
        "        else:\n",
        "            patience_counter += 1\n",
        "            if patience_counter > patience:\n",
        "                break"
      ],
      "metadata": {
        "id": "Xj2pxLHxKLaC"
      },
      "execution_count": 65,
      "outputs": []
    },
    {
      "cell_type": "code",
      "source": [
        "# Train with normalized adjacency matrix\n",
        "train_cora(features, norm_adj, gnn, 128, 300, 0.005, patience=50)"
      ],
      "metadata": {
        "colab": {
          "base_uri": "https://localhost:8080/"
        },
        "id": "V-4YwE0aG0-c",
        "outputId": "7c5e063e-1861-406f-f1ac-a33d2e62c2d3"
      },
      "execution_count": 67,
      "outputs": [
        {
          "output_type": "stream",
          "name": "stdout",
          "text": [
            "Epoch 000 | Training loss: 1.9466 | Val accuracy: 0.2580 | Test accuracy: 0.2670\n",
            "Epoch 001 | Training loss: 1.9206 | Val accuracy: 0.2960 | Test accuracy: 0.3110\n",
            "Epoch 002 | Training loss: 1.8796 | Val accuracy: 0.4440 | Test accuracy: 0.4570\n",
            "Epoch 003 | Training loss: 1.8168 | Val accuracy: 0.5260 | Test accuracy: 0.5550\n",
            "Epoch 004 | Training loss: 1.7303 | Val accuracy: 0.6040 | Test accuracy: 0.6550\n",
            "Epoch 005 | Training loss: 1.6180 | Val accuracy: 0.6920 | Test accuracy: 0.7130\n",
            "Epoch 006 | Training loss: 1.4819 | Val accuracy: 0.7260 | Test accuracy: 0.7610\n",
            "Epoch 007 | Training loss: 1.3236 | Val accuracy: 0.7640 | Test accuracy: 0.7850\n",
            "Epoch 008 | Training loss: 1.1479 | Val accuracy: 0.7880 | Test accuracy: 0.8100\n",
            "Epoch 009 | Training loss: 0.9637 | Val accuracy: 0.7920 | Test accuracy: 0.8120\n",
            "Epoch 010 | Training loss: 0.7823 | Val accuracy: 0.8020 | Test accuracy: 0.8140\n",
            "Epoch 011 | Training loss: 0.6134 | Val accuracy: 0.8040 | Test accuracy: 0.8160\n"
          ]
        }
      ]
    }
  ]
}